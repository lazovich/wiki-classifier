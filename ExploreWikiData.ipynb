{
 "cells": [
  {
   "cell_type": "code",
   "execution_count": 1,
   "metadata": {
    "collapsed": true
   },
   "outputs": [],
   "source": [
    "import pickle\n",
    "from sklearn.feature_extraction.text import CountVectorizer, TfidfVectorizer\n",
    "import lda\n",
    "import numpy as np\n",
    "import pandas as pd"
   ]
  },
  {
   "cell_type": "markdown",
   "metadata": {},
   "source": [
    "Before deciding which model to build in the script requested by the exercise, I took the scraped wiki data and did some exploration to learn a bit about the data and test out a few different approaches."
   ]
  },
  {
   "cell_type": "markdown",
   "metadata": {},
   "source": [
    "##Training set construction"
   ]
  },
  {
   "cell_type": "code",
   "execution_count": 2,
   "metadata": {
    "collapsed": true
   },
   "outputs": [],
   "source": [
    "text_dict = pickle.load(open(\"text_dict.pkl\", \"r\"))\n",
    "target_dict = pickle.load(open(\"target_dict.pkl\", \"r\"))\n",
    "ind_cat_map = pickle.load(open(\"ind_cat_map.pkl\", \"r\"))\n",
    "cat_ind_map = pickle.load(open(\"cat_ind_map.pkl\", \"r\"))"
   ]
  },
  {
   "cell_type": "markdown",
   "metadata": {},
   "source": [
    "First I do some cleaning to transform the dictionaries into a feature vector and target vector. Initially, I will keep all of the labels for each example, to allow for multi-label training. "
   ]
  },
  {
   "cell_type": "code",
   "execution_count": 3,
   "metadata": {
    "collapsed": true
   },
   "outputs": [],
   "source": [
    "def cat_list_to_vector(cat_list, n_topics):\n",
    "    ret = np.zeros((1, n_topics))\n",
    "    \n",
    "    for c in cat_list:\n",
    "        ret[0, c] = 1\n",
    "    \n",
    "    return ret"
   ]
  },
  {
   "cell_type": "code",
   "execution_count": 4,
   "metadata": {
    "collapsed": false
   },
   "outputs": [],
   "source": [
    "n_topics = len(cat_ind_map.keys())\n",
    "documents = []\n",
    "targets = np.zeros((len(text_dict.keys()), n_topics))\n",
    "\n",
    "ct = 0\n",
    "for k in sorted(text_dict.keys()):\n",
    "    documents.append(text_dict[k])\n",
    "    targets[ct, :] = cat_list_to_vector(target_dict[k], n_topics)\n",
    "    ct += 1"
   ]
  },
  {
   "cell_type": "markdown",
   "metadata": {},
   "source": [
    "We see below that 74 out of the 1063 articles have more than one category. Not a huge fraction, but I want to continue with the multi-label approach for now because it is more flexible. With this category set there is not a lot of overlap, but if you wanted to train on categories like \"Presidents\" and \"Famous Men\" there would be signiifcantly more overlap."
   ]
  },
  {
   "cell_type": "code",
   "execution_count": 5,
   "metadata": {
    "collapsed": false
   },
   "outputs": [
    {
     "data": {
      "text/plain": [
       "74"
      ]
     },
     "execution_count": 5,
     "metadata": {},
     "output_type": "execute_result"
    }
   ],
   "source": [
    "np.sum(np.sum(targets, axis=1) > 1)"
   ]
  },
  {
   "cell_type": "code",
   "execution_count": 6,
   "metadata": {
    "collapsed": false
   },
   "outputs": [
    {
     "data": {
      "text/plain": [
       "(1063, 7)"
      ]
     },
     "execution_count": 6,
     "metadata": {},
     "output_type": "execute_result"
    }
   ],
   "source": [
    "targets.shape"
   ]
  },
  {
   "cell_type": "markdown",
   "metadata": {},
   "source": [
    "As a first step, I try running a Random Forest on a simple bag of words model. Bag of words simply stores the count frequency of each word in the vocabulary for each document. In this case we get a 1063x4876 matrix (1063 documents, 4876 words in the vocabulary). Note that I put min_df = 10 as one of the parameters. This means that a word needs to be in at least ten documents to be included in the vocab. This reduces the size of the feature space from ~35k to ~5k, which will make fitting a bit less cumbersome. Including stop_words='english' will remove very common words like \"and\" and \"the\""
   ]
  },
  {
   "cell_type": "code",
   "execution_count": 7,
   "metadata": {
    "collapsed": false
   },
   "outputs": [],
   "source": [
    "vectorizer = CountVectorizer(min_df = 10, stop_words='english')\n",
    "bagofwords = vectorizer.fit_transform(documents)"
   ]
  },
  {
   "cell_type": "code",
   "execution_count": 8,
   "metadata": {
    "collapsed": false
   },
   "outputs": [],
   "source": [
    "vocab = vectorizer.get_feature_names()"
   ]
  },
  {
   "cell_type": "code",
   "execution_count": 9,
   "metadata": {
    "collapsed": false
   },
   "outputs": [
    {
     "data": {
      "text/plain": [
       "4876"
      ]
     },
     "execution_count": 9,
     "metadata": {},
     "output_type": "execute_result"
    }
   ],
   "source": [
    "len(vocab)"
   ]
  },
  {
   "cell_type": "markdown",
   "metadata": {},
   "source": [
    "I split into a training set and a test set so I can test the accuracy of the model on unseen examples."
   ]
  },
  {
   "cell_type": "code",
   "execution_count": 10,
   "metadata": {
    "collapsed": true
   },
   "outputs": [],
   "source": [
    "from sklearn.cross_validation import train_test_split\n",
    "train_text, test_text, train_targ, test_targ = train_test_split(bagofwords, targets, random_state=42)"
   ]
  },
  {
   "cell_type": "code",
   "execution_count": 11,
   "metadata": {
    "collapsed": false
   },
   "outputs": [
    {
     "name": "stdout",
     "output_type": "stream",
     "text": [
      "(797, 4876)\n",
      "(266, 4876)\n",
      "(797, 7)\n",
      "(266, 7)\n"
     ]
    }
   ],
   "source": [
    "print train_text.shape\n",
    "print test_text.shape\n",
    "print train_targ.shape\n",
    "print test_targ.shape"
   ]
  },
  {
   "cell_type": "markdown",
   "metadata": {},
   "source": [
    "## Model building"
   ]
  },
  {
   "cell_type": "markdown",
   "metadata": {},
   "source": [
    "I start with a random forest because they are relatively easy to use and quick to train"
   ]
  },
  {
   "cell_type": "code",
   "execution_count": 12,
   "metadata": {
    "collapsed": false
   },
   "outputs": [
    {
     "data": {
      "text/plain": [
       "RandomForestClassifier(bootstrap=True, class_weight=None, criterion='gini',\n",
       "            max_depth=None, max_features='sqrt', max_leaf_nodes=None,\n",
       "            min_samples_leaf=1, min_samples_split=2,\n",
       "            min_weight_fraction_leaf=0.0, n_estimators=1000, n_jobs=1,\n",
       "            oob_score=False, random_state=None, verbose=0,\n",
       "            warm_start=False)"
      ]
     },
     "execution_count": 12,
     "metadata": {},
     "output_type": "execute_result"
    }
   ],
   "source": [
    "from sklearn.ensemble import RandomForestClassifier\n",
    "rf = RandomForestClassifier(n_estimators=1000, max_features='sqrt')\n",
    "rf.fit(train_text, train_targ)"
   ]
  },
  {
   "cell_type": "code",
   "execution_count": 13,
   "metadata": {
    "collapsed": false
   },
   "outputs": [
    {
     "name": "stdout",
     "output_type": "stream",
     "text": [
      "0.676691729323\n"
     ]
    }
   ],
   "source": [
    "from sklearn.metrics import accuracy_score\n",
    "preds = rf.predict(test_text)\n",
    "print accuracy_score(test_targ, preds)"
   ]
  },
  {
   "cell_type": "markdown",
   "metadata": {},
   "source": [
    "The accuracy I got with the above model wasn't too great (68% as seen above). But, we need to keep in mind that accuracy_score in a multi-label context will only label the example as correct if ALL of the labels are correctly assigned. So the accuracy in each category is likely better than that (more on that below). \n",
    "\n",
    "Another improvement is to move to TF-IDF vectors instead of simple count vectors. In this case, the word counts are normalized by their document frequency. So, words that appear in every document are less significant than words that appear only a few times. I believe this will help the discrimination."
   ]
  },
  {
   "cell_type": "code",
   "execution_count": 134,
   "metadata": {
    "collapsed": false
   },
   "outputs": [],
   "source": [
    "tfidf_tf = TfidfVectorizer(min_df = 10, stop_words='english')\n",
    "tfidf_words = tfidf_tf.fit_transform(documents)\n",
    "train_text_tfidf, test_text_tfidf, train_targ, test_targ = train_test_split(tfidf_words, targets, random_state=42)"
   ]
  },
  {
   "cell_type": "code",
   "execution_count": 135,
   "metadata": {
    "collapsed": false
   },
   "outputs": [
    {
     "name": "stdout",
     "output_type": "stream",
     "text": [
      "0.68045112782\n"
     ]
    }
   ],
   "source": [
    "rf = RandomForestClassifier(n_estimators=1000)\n",
    "rf.fit(train_text_tfidf, train_targ)\n",
    "preds_tfidf = rf.predict(test_text_tfidf)\n",
    "print accuracy_score(test_targ, preds_tfidf)"
   ]
  },
  {
   "cell_type": "markdown",
   "metadata": {},
   "source": [
    "We got a slight improvement in accuracy, but nothing major.\n",
    "\n",
    "I now try for two other improvements. The first is switching from a Random Forest (RF) to a Gradient Boosting Tree (GB). I know from my experience on Kaggle that GB tends to perform better than RF for many problems. So I wanted to give it a try. The other thing I decided to do was to use sklearn's OneVsRestClassifier. With multi-label training, the OvR classifier in sklearn will train a separate classifier for each category. This might perform better than trying to predict all the labels together."
   ]
  },
  {
   "cell_type": "code",
   "execution_count": 137,
   "metadata": {
    "collapsed": false
   },
   "outputs": [
    {
     "data": {
      "text/plain": [
       "OneVsRestClassifier(estimator=GradientBoostingClassifier(init=None, learning_rate=0.1, loss='deviance',\n",
       "              max_depth=3, max_features=None, max_leaf_nodes=None,\n",
       "              min_samples_leaf=1, min_samples_split=2,\n",
       "              min_weight_fraction_leaf=0.0, n_estimators=100,\n",
       "              random_state=None, subsample=1.0, verbose=0,\n",
       "              warm_start=False),\n",
       "          n_jobs=1)"
      ]
     },
     "execution_count": 137,
     "metadata": {},
     "output_type": "execute_result"
    }
   ],
   "source": [
    "from sklearn.multiclass import OneVsRestClassifier\n",
    "from sklearn.ensemble import GradientBoostingClassifier\n",
    "ovr = OneVsRestClassifier(GradientBoostingClassifier())\n",
    "ovr.fit(train_text_tfidf.toarray(), train_targ)"
   ]
  },
  {
   "cell_type": "code",
   "execution_count": 138,
   "metadata": {
    "collapsed": false
   },
   "outputs": [
    {
     "name": "stdout",
     "output_type": "stream",
     "text": [
      "0.676691729323\n"
     ]
    }
   ],
   "source": [
    "preds_ovr = ovr.predict(test_text_tfidf.toarray())\n",
    "print accuracy_score(test_targ, preds_ovr)"
   ]
  },
  {
   "cell_type": "code",
   "execution_count": 139,
   "metadata": {
    "collapsed": false
   },
   "outputs": [
    {
     "name": "stdout",
     "output_type": "stream",
     "text": [
      "0.860902255639\n",
      "0.962406015038\n",
      "0.977443609023\n",
      "0.857142857143\n",
      "0.996240601504\n",
      "0.996240601504\n",
      "0.966165413534\n"
     ]
    }
   ],
   "source": [
    "for i in xrange(test_targ.shape[1]):\n",
    "    print accuracy_score(test_targ[:,i], preds_ovr[:,i])"
   ]
  },
  {
   "cell_type": "markdown",
   "metadata": {},
   "source": [
    "Interestingly, we see a couple of things. First, the overall classifier ends up having the same accuracy as the RF counterpart! Also, I checked the individual category accuracies which seemed to be much better. Below, you can also see something that arises in the OvR that wasn't a problem with the RF. Since OvR treats everything independently, there is no guarantee that the document will be put in any of the categories. If we wanted to enforce that, we can normalize each prediction by the sum of the probabilities and try again."
   ]
  },
  {
   "cell_type": "code",
   "execution_count": 140,
   "metadata": {
    "collapsed": false
   },
   "outputs": [
    {
     "data": {
      "text/plain": [
       "34"
      ]
     },
     "execution_count": 140,
     "metadata": {},
     "output_type": "execute_result"
    }
   ],
   "source": [
    "(np.sum(preds_ovr, axis=1) < 1).sum()"
   ]
  },
  {
   "cell_type": "code",
   "execution_count": 141,
   "metadata": {
    "collapsed": false
   },
   "outputs": [
    {
     "data": {
      "text/plain": [
       "34"
      ]
     },
     "execution_count": 141,
     "metadata": {},
     "output_type": "execute_result"
    }
   ],
   "source": [
    "(np.sum(preds_ovr, axis=1) > 1).sum()"
   ]
  },
  {
   "cell_type": "code",
   "execution_count": 142,
   "metadata": {
    "collapsed": true
   },
   "outputs": [],
   "source": [
    "preds_ovr_prob = ovr.predict_proba(test_text_tfidf.toarray())"
   ]
  },
  {
   "cell_type": "code",
   "execution_count": 143,
   "metadata": {
    "collapsed": false
   },
   "outputs": [
    {
     "data": {
      "text/plain": [
       "array([ 0.40266642,  1.04014936,  1.05185133,  1.48276814,  1.05520467,\n",
       "        1.04379879,  0.38623334,  0.10699007,  1.3088554 ,  1.04158647,\n",
       "        1.1267326 ,  0.64955941,  1.58021584,  1.09823506,  1.08953887,\n",
       "        0.86597824,  1.12269891,  1.03987396,  0.7279247 ,  1.30815656,\n",
       "        1.01600033,  1.62186746,  1.2425214 ,  1.25761603,  1.16871771,\n",
       "        1.62920754,  1.27018249,  0.37439528,  1.63475308,  0.72871103,\n",
       "        0.75067048,  1.09476065,  0.60717975,  1.10708061,  0.33300805,\n",
       "        0.15000129,  1.12732841,  1.57742756,  0.88759416,  1.03016708,\n",
       "        1.10039858,  0.98217779,  0.95063373,  0.53815352,  0.99602177,\n",
       "        1.23863697,  0.27826074,  1.11715993,  1.012323  ,  0.97008142,\n",
       "        0.98672279,  1.02220978,  1.10523707,  1.12516829,  1.61233016,\n",
       "        0.9914631 ,  1.67752623,  1.11082343,  0.94052657,  0.99161466,\n",
       "        0.14902286,  1.13339026,  0.70402871,  1.01018112,  0.15693496,\n",
       "        0.84526362,  1.1431236 ,  1.12329099,  1.53049497,  0.17892785,\n",
       "        1.3401704 ,  0.96924197,  0.78924184,  1.1476958 ,  1.12511258,\n",
       "        1.5057077 ,  1.06439246,  1.05888078,  1.42087209,  1.0902911 ,\n",
       "        1.07102227,  1.47069938,  0.11381119,  1.43581108,  1.11930236,\n",
       "        0.96405261,  1.00454927,  0.78736169,  1.06347116,  0.41643098,\n",
       "        1.04011498,  1.66442413,  0.89799501,  1.45603983,  0.92704608,\n",
       "        0.98985991,  0.8277716 ,  1.10826548,  0.98319331,  1.28946728,\n",
       "        0.78480074,  1.85514296,  1.22563447,  1.02360106,  1.14997148,\n",
       "        0.93427951,  1.0167202 ,  1.04704247,  1.20946351,  1.10365074,\n",
       "        0.13312695,  1.17357859,  1.12548106,  1.26468646,  0.90735078,\n",
       "        1.43010832,  0.9782422 ,  1.02581245,  1.98527994,  1.83096097,\n",
       "        0.79763854,  1.21057557,  1.40813615,  0.97429016,  1.01069857,\n",
       "        1.11047351,  0.84440333,  0.96875219,  1.52529078,  1.31251749,\n",
       "        0.87873216,  1.03103661,  1.87016051,  2.35276893,  1.02085582,\n",
       "        1.1447366 ,  0.42480892,  1.315318  ,  1.0991028 ,  1.0274794 ,\n",
       "        1.39021388,  1.07286325,  1.10173982,  1.1028289 ,  1.32384969,\n",
       "        1.05560266,  1.13604176,  0.30067985,  0.25151996,  0.99533425,\n",
       "        0.98699877,  0.98459757,  1.11965346,  1.10473725,  0.66366645,\n",
       "        0.81227243,  0.97271659,  1.01971973,  1.01217802,  1.26803838,\n",
       "        0.99202879,  0.94456264,  1.45616966,  1.56963784,  0.93213459,\n",
       "        1.02907475,  0.96681367,  1.05325109,  1.11263719,  1.02248599,\n",
       "        1.37269667,  0.3451412 ,  1.0229503 ,  1.0573002 ,  0.91876953,\n",
       "        1.31211318,  1.02184967,  1.08866498,  1.16203151,  1.09626492,\n",
       "        1.09018406,  0.10266394,  1.74500387,  1.08322395,  1.06411225,\n",
       "        1.32681971,  1.13745968,  1.02093877,  1.34502448,  0.12769812,\n",
       "        1.27411433,  1.01112751,  0.91882107,  1.73716765,  0.98931235,\n",
       "        1.14364148,  1.11617425,  1.33544252,  1.01514606,  0.30901082,\n",
       "        1.14622291,  0.21239863,  1.07098872,  1.02833657,  0.98944323,\n",
       "        1.03875611,  1.32204537,  0.87581009,  0.97723006,  1.10203041,\n",
       "        1.01616541,  1.20855613,  2.11242847,  0.15468111,  1.43055147,\n",
       "        1.17750024,  0.82064005,  0.99512046,  0.16737966,  1.01170015,\n",
       "        0.99994771,  0.5380436 ,  1.14408802,  1.04222089,  0.16650297,\n",
       "        1.24125916,  1.09277094,  1.60299229,  1.12677207,  1.55992567,\n",
       "        1.98685511,  1.05509671,  1.28578917,  0.2437061 ,  2.19758708,\n",
       "        1.0299516 ,  0.96375099,  1.14861279,  0.22991424,  0.81580755,\n",
       "        0.99409947,  1.80073978,  1.31231255,  1.47913168,  1.11996864,\n",
       "        1.05848736,  1.56566153,  1.07679434,  1.39675562,  0.14611842,\n",
       "        1.33928814,  1.4400883 ,  1.1844397 ,  1.12817278,  0.949849  ,\n",
       "        1.03233952,  1.08839818,  1.09625928,  1.48936668,  0.11218659,\n",
       "        0.15000129,  1.14491235,  1.59168707,  0.65054312,  1.0479324 ,\n",
       "        1.39723011])"
      ]
     },
     "execution_count": 143,
     "metadata": {},
     "output_type": "execute_result"
    }
   ],
   "source": [
    "np.sum(preds_ovr_prob, axis=1)"
   ]
  },
  {
   "cell_type": "code",
   "execution_count": 144,
   "metadata": {
    "collapsed": false
   },
   "outputs": [],
   "source": [
    "preds_ovr_prob_norm = preds_ovr_prob/np.sum(preds_ovr_prob, axis=1)[:, np.newaxis]"
   ]
  },
  {
   "cell_type": "markdown",
   "metadata": {},
   "source": [
    "Now, we have an overall prediction accuracy of 79%, an improvement of ~11% compared to before! Additionally, the individual category accuracies look quite good."
   ]
  },
  {
   "cell_type": "code",
   "execution_count": 145,
   "metadata": {
    "collapsed": false
   },
   "outputs": [
    {
     "name": "stdout",
     "output_type": "stream",
     "text": [
      "0.789473684211\n"
     ]
    }
   ],
   "source": [
    "print accuracy_score(test_targ, np.round(preds_ovr_prob_norm))"
   ]
  },
  {
   "cell_type": "code",
   "execution_count": 146,
   "metadata": {
    "collapsed": false
   },
   "outputs": [
    {
     "name": "stdout",
     "output_type": "stream",
     "text": [
      "0.853383458647\n",
      "0.96992481203\n",
      "0.981203007519\n",
      "0.883458646617\n",
      "0.996240601504\n",
      "0.996240601504\n",
      "0.977443609023\n"
     ]
    }
   ],
   "source": [
    "for i in xrange(test_targ.shape[1]):\n",
    "    print accuracy_score(test_targ[:,i], np.round(preds_ovr_prob_norm[:,i]))"
   ]
  },
  {
   "cell_type": "markdown",
   "metadata": {},
   "source": [
    "We can also ask how well we do if we just ask for one category to be labeled correctly. As you can see below, the accuracy of that is ~84%!"
   ]
  },
  {
   "cell_type": "code",
   "execution_count": 147,
   "metadata": {
    "collapsed": false
   },
   "outputs": [
    {
     "data": {
      "text/plain": [
       "0.83834586466165417"
      ]
     },
     "execution_count": 147,
     "metadata": {},
     "output_type": "execute_result"
    }
   ],
   "source": [
    "# At least one label correct\n",
    "np.sum(np.logical_and(test_targ, np.round(preds_ovr_prob_norm)), axis=1).sum()*1.0/test_targ.shape[0]"
   ]
  },
  {
   "cell_type": "markdown",
   "metadata": {},
   "source": [
    "Finally, we can see how well we do if we try to just label a single category rather than doing the multi-label approach. To construct this training set, if there is more than one label for an example, I take the label that is most informative (i.e. the one that has the least entries in the category). "
   ]
  },
  {
   "cell_type": "code",
   "execution_count": 148,
   "metadata": {
    "collapsed": false
   },
   "outputs": [],
   "source": [
    "targ_counts = np.sum(targets, axis=0)"
   ]
  },
  {
   "cell_type": "code",
   "execution_count": 149,
   "metadata": {
    "collapsed": false
   },
   "outputs": [],
   "source": [
    "targ_single = np.argmax(targets, axis=1)"
   ]
  },
  {
   "cell_type": "code",
   "execution_count": 150,
   "metadata": {
    "collapsed": true
   },
   "outputs": [],
   "source": [
    "overlap_inds = np.where(np.sum(targets, axis=1) > 1)[0]"
   ]
  },
  {
   "cell_type": "code",
   "execution_count": 151,
   "metadata": {
    "collapsed": false
   },
   "outputs": [],
   "source": [
    "for ind in overlap_inds:\n",
    "    labels = targets[ind,:]\n",
    "    pos_labs = np.where(labels > 0)[0]\n",
    "    targ_single[ind] = pos_labs[np.argmin(targ_counts[pos_labs], axis=0)]"
   ]
  },
  {
   "cell_type": "code",
   "execution_count": 152,
   "metadata": {
    "collapsed": false
   },
   "outputs": [
    {
     "data": {
      "text/plain": [
       "array([3, 3, 3, 3, 3, 3, 3, 3, 3, 3, 3, 3, 3, 3, 3, 3, 3, 3, 3, 3, 3, 3, 3,\n",
       "       2, 3, 3, 3, 3, 3, 3, 3, 3, 3, 3, 3, 3, 3, 3, 3, 3, 3, 3, 3, 3, 3, 3,\n",
       "       3, 3, 3, 3, 3, 3, 3, 3, 3, 3, 3, 3, 3, 3, 3, 3, 3, 3, 3, 3, 3, 3, 3,\n",
       "       3, 3, 3, 3, 3])"
      ]
     },
     "execution_count": 152,
     "metadata": {},
     "output_type": "execute_result"
    }
   ],
   "source": [
    "targ_single[overlap_inds]"
   ]
  },
  {
   "cell_type": "code",
   "execution_count": 153,
   "metadata": {
    "collapsed": true
   },
   "outputs": [],
   "source": [
    "targ_single_tr, targ_single_te = train_test_split(targ_single, random_state=42)"
   ]
  },
  {
   "cell_type": "code",
   "execution_count": 154,
   "metadata": {
    "collapsed": false
   },
   "outputs": [
    {
     "data": {
      "text/plain": [
       "GradientBoostingClassifier(init=None, learning_rate=0.1, loss='deviance',\n",
       "              max_depth=3, max_features=None, max_leaf_nodes=None,\n",
       "              min_samples_leaf=1, min_samples_split=2,\n",
       "              min_weight_fraction_leaf=0.0, n_estimators=100,\n",
       "              random_state=None, subsample=1.0, verbose=0,\n",
       "              warm_start=False)"
      ]
     },
     "execution_count": 154,
     "metadata": {},
     "output_type": "execute_result"
    }
   ],
   "source": [
    "gb_sing = GradientBoostingClassifier()\n",
    "gb_sing.fit(train_text_tfidf.toarray(), targ_single_tr)"
   ]
  },
  {
   "cell_type": "code",
   "execution_count": 155,
   "metadata": {
    "collapsed": false
   },
   "outputs": [
    {
     "name": "stdout",
     "output_type": "stream",
     "text": [
      "0.800751879699\n"
     ]
    }
   ],
   "source": [
    "preds_sing = gb_sing.predict(test_text_tfidf.toarray())\n",
    "print accuracy_score(targ_single_te, preds_sing)"
   ]
  },
  {
   "cell_type": "markdown",
   "metadata": {},
   "source": [
    "The single class classifier gets an accuracy slightly above 80%. Not too bad! If we check below which categories are being confused with which others, we can see that category 0 (rare diseases) and 3 (congenital diseases) are the most mixed up. The row values are the true category and the column values are predicted. 19 examples have true category 3 but are predicted as 0, and 10 have true category 0 but are predicted as 3."
   ]
  },
  {
   "cell_type": "code",
   "execution_count": 156,
   "metadata": {
    "collapsed": false
   },
   "outputs": [
    {
     "data": {
      "text/html": [
       "<div>\n",
       "<table border=\"1\" class=\"dataframe\">\n",
       "  <thead>\n",
       "    <tr style=\"text-align: right;\">\n",
       "      <th>col_0</th>\n",
       "      <th>0</th>\n",
       "      <th>1</th>\n",
       "      <th>2</th>\n",
       "      <th>3</th>\n",
       "      <th>5</th>\n",
       "      <th>6</th>\n",
       "    </tr>\n",
       "    <tr>\n",
       "      <th>row_0</th>\n",
       "      <th></th>\n",
       "      <th></th>\n",
       "      <th></th>\n",
       "      <th></th>\n",
       "      <th></th>\n",
       "      <th></th>\n",
       "    </tr>\n",
       "  </thead>\n",
       "  <tbody>\n",
       "    <tr>\n",
       "      <th>0</th>\n",
       "      <td>0</td>\n",
       "      <td>2</td>\n",
       "      <td>2</td>\n",
       "      <td>10</td>\n",
       "      <td>1</td>\n",
       "      <td>4</td>\n",
       "    </tr>\n",
       "    <tr>\n",
       "      <th>1</th>\n",
       "      <td>6</td>\n",
       "      <td>0</td>\n",
       "      <td>0</td>\n",
       "      <td>0</td>\n",
       "      <td>0</td>\n",
       "      <td>0</td>\n",
       "    </tr>\n",
       "    <tr>\n",
       "      <th>2</th>\n",
       "      <td>3</td>\n",
       "      <td>0</td>\n",
       "      <td>0</td>\n",
       "      <td>0</td>\n",
       "      <td>0</td>\n",
       "      <td>0</td>\n",
       "    </tr>\n",
       "    <tr>\n",
       "      <th>3</th>\n",
       "      <td>19</td>\n",
       "      <td>0</td>\n",
       "      <td>0</td>\n",
       "      <td>0</td>\n",
       "      <td>0</td>\n",
       "      <td>1</td>\n",
       "    </tr>\n",
       "    <tr>\n",
       "      <th>4</th>\n",
       "      <td>1</td>\n",
       "      <td>0</td>\n",
       "      <td>0</td>\n",
       "      <td>0</td>\n",
       "      <td>0</td>\n",
       "      <td>0</td>\n",
       "    </tr>\n",
       "    <tr>\n",
       "      <th>6</th>\n",
       "      <td>4</td>\n",
       "      <td>0</td>\n",
       "      <td>0</td>\n",
       "      <td>0</td>\n",
       "      <td>0</td>\n",
       "      <td>0</td>\n",
       "    </tr>\n",
       "  </tbody>\n",
       "</table>\n",
       "</div>"
      ],
      "text/plain": [
       "col_0   0  1  2   3  5  6\n",
       "row_0                    \n",
       "0       0  2  2  10  1  4\n",
       "1       6  0  0   0  0  0\n",
       "2       3  0  0   0  0  0\n",
       "3      19  0  0   0  0  1\n",
       "4       1  0  0   0  0  0\n",
       "6       4  0  0   0  0  0"
      ]
     },
     "execution_count": 156,
     "metadata": {},
     "output_type": "execute_result"
    }
   ],
   "source": [
    "disagree = preds_sing != targ_single_te\n",
    "pd.crosstab(targ_single_te[disagree], preds_sing[disagree])"
   ]
  },
  {
   "cell_type": "code",
   "execution_count": 157,
   "metadata": {
    "collapsed": false
   },
   "outputs": [
    {
     "data": {
      "text/plain": [
       "array([4, 3, 0, 0, 0, 2, 0, 6, 0, 1, 3, 1, 6, 0, 0, 3, 3, 6, 3, 0, 0, 1, 0,\n",
       "       3, 0, 3, 3, 3, 3, 3, 3, 0, 3, 1, 3, 3, 6, 0, 0, 0, 3, 1, 3, 0, 0, 3,\n",
       "       0, 0, 1, 3, 2, 2, 3])"
      ]
     },
     "execution_count": 157,
     "metadata": {},
     "output_type": "execute_result"
    }
   ],
   "source": [
    "targ_single_te[disagree]"
   ]
  },
  {
   "cell_type": "code",
   "execution_count": 158,
   "metadata": {
    "collapsed": false
   },
   "outputs": [
    {
     "data": {
      "text/plain": [
       "array([0, 0, 1, 1, 3, 0, 3, 0, 3, 0, 0, 0, 0, 3, 3, 0, 0, 0, 0, 5, 3, 0, 3,\n",
       "       0, 6, 0, 6, 0, 0, 0, 0, 3, 0, 0, 0, 0, 0, 3, 3, 6, 0, 0, 0, 2, 2, 0,\n",
       "       6, 6, 0, 0, 0, 0, 0])"
      ]
     },
     "execution_count": 158,
     "metadata": {},
     "output_type": "execute_result"
    }
   ],
   "source": [
    "preds_sing[disagree]"
   ]
  },
  {
   "cell_type": "markdown",
   "metadata": {},
   "source": [
    "I wanted to check how many of the predictions that are incorrect came from examples with multiple labels. Only 9 of them had multiple labels originally, which is ~3% of the test set. "
   ]
  },
  {
   "cell_type": "code",
   "execution_count": 165,
   "metadata": {
    "collapsed": false
   },
   "outputs": [
    {
     "data": {
      "text/plain": [
       "9"
      ]
     },
     "execution_count": 165,
     "metadata": {},
     "output_type": "execute_result"
    }
   ],
   "source": [
    "np.sum(np.sum(test_targ[disagree], axis=1) > 1)"
   ]
  },
  {
   "cell_type": "markdown",
   "metadata": {},
   "source": [
    "## Visualizing the data\n",
    "\n",
    "tSNE is a useful method for projecting high dimensional spaces down to 2 or 3 dimensions for visualization purposes. I wanted to see how the different categories looked in this projected space."
   ]
  },
  {
   "cell_type": "code",
   "execution_count": 175,
   "metadata": {
    "collapsed": true
   },
   "outputs": [],
   "source": [
    "from sklearn.manifold import TSNE\n",
    "tsne = TSNE(early_exaggeration=1)\n",
    "tsne_coords = tsne.fit_transform(train_text_tfidf)"
   ]
  },
  {
   "cell_type": "code",
   "execution_count": 183,
   "metadata": {
    "collapsed": false,
    "scrolled": true
   },
   "outputs": [
    {
     "data": {
      "text/plain": [
       "<matplotlib.legend.Legend at 0x125ca4e90>"
      ]
     },
     "execution_count": 183,
     "metadata": {},
     "output_type": "execute_result"
    },
    {
     "data": {
      "image/png": "[encoded data removed]",
      "text/plain": [
       "<matplotlib.figure.Figure at 0x10b67e6d0>"
      ]
     },
     "metadata": {},
     "output_type": "display_data"
    }
   ],
   "source": [
    "%matplotlib inline\n",
    "import matplotlib\n",
    "import matplotlib.pyplot as plt\n",
    "colors = np.array([x for x in 'bgrcmykbgrcmykbgrcmykbgrcmyk'])\n",
    "colors = np.hstack([colors] * 20)\n",
    "for targ in xrange(targets.shape[1]):\n",
    "    examples = targ_single_tr == targ\n",
    "    plt.scatter(tsne_coords[examples,0], tsne_coords[examples,1], color=colors[targ], label=ind_cat_map[targ])\n",
    "plt.legend(bbox_to_anchor=(0., 1.02, 1., .102), loc=3,\n",
    "           ncol=2, mode=\"expand\", borderaxespad=0.)"
   ]
  },
  {
   "cell_type": "markdown",
   "metadata": {},
   "source": [
    "Interestingly, we see above what we also saw in our classification studies. Namely that rare diseases and congenital diseases have the most overlap. Machine learning, infectious diseases, and medical devices form nice clusters. Cancer is an interesting case because it has some articles clustered and others that are scattered around.\n",
    "\n",
    "Finally, I wanted to use the single category model to evaluate which words were the most discriminative. Because GB is tree based, it has a nice feature importance metric."
   ]
  },
  {
   "cell_type": "code",
   "execution_count": 205,
   "metadata": {
    "collapsed": false
   },
   "outputs": [
    {
     "name": "stdout",
     "output_type": "stream",
     "text": [
      "[u'usa' u'birth' u'lymph' u'instrument' u'models' u'induced' u'stain'\n",
      " u'target' u'named' u'spanish' u'condition' u'thymus' u'circular'\n",
      " u'congenital' u'rare' u'learning' u'mammals' u'technologies' u'products'\n",
      " u'organ' u'infectious' u'real' u'cancer' u'device' u'algorithm']\n",
      "[ 0.00607508  0.00611015  0.00612096  0.00612924  0.00644763  0.00682076\n",
      "  0.00809562  0.00867905  0.00900913  0.00912356  0.01010143  0.01137956\n",
      "  0.01200072  0.01218482  0.01271205  0.01600413  0.01616756  0.01623708\n",
      "  0.01756218  0.01981734  0.02001673  0.02267669  0.03518679  0.03764923\n",
      "  0.06922034]\n"
     ]
    }
   ],
   "source": [
    "tfidf_vocab = np.array(tfidf_tf.get_feature_names())\n",
    "print tfidf_vocab[np.argsort(gb_sing.feature_importances_)[-25:]]\n",
    "print gb_sing.feature_importances_[np.argsort(gb_sing.feature_importances_)[-25:]]"
   ]
  },
  {
   "cell_type": "markdown",
   "metadata": {},
   "source": [
    "We see that the most informative word is \"algorithm\", which is very likely what allows the classifier to idenfity machine learning algorithms. \"Cancer\" and \"device\" are also very informative. "
   ]
  },
  {
   "cell_type": "markdown",
   "metadata": {},
   "source": [
    "##Final thoughts\n",
    "In the end I've decided to go with the normalized OvR classifier. I like the fact that it is flexible enough to handle multi-label classification, and it has good accuracy both for getting at least one label correct and getting the combination of labels correct.\n",
    "\n",
    "##Extensions/improvements\n",
    "\n",
    "There are quite a few improvements I could have made if I had more time. These include:\n",
    "\n",
    "- Tuning of the gradient boosting parameters\n",
    "- Testing out other multi-label classification algorithms\n",
    "- Better features (Google's word2vec and doc2vec stand out as good candidates)"
   ]
  }
 ],
 "metadata": {
  "kernelspec": {
   "display_name": "Python 2",
   "language": "python",
   "name": "python2"
  },
  "language_info": {
   "codemirror_mode": {
    "name": "ipython",
    "version": 2
   },
   "file_extension": ".py",
   "mimetype": "text/x-python",
   "name": "python",
   "nbconvert_exporter": "python",
   "pygments_lexer": "ipython2",
   "version": "2.7.10"
  }
 },
 "nbformat": 4,
 "nbformat_minor": 0
}
